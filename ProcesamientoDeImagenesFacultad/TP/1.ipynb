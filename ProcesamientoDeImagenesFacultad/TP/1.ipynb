{
 "cells": [
  {
   "cell_type": "markdown",
   "metadata": {},
   "source": [
    "# Librerias"
   ]
  },
  {
   "cell_type": "code",
   "execution_count": null,
   "metadata": {},
   "outputs": [],
   "source": [
    "import cv2\n",
    "import numpy as np\n",
    "import matplotlib.pyplot as plt"
   ]
  },
  {
   "cell_type": "markdown",
   "metadata": {},
   "source": [
    "# Funcion Ecualizacion local Histograma"
   ]
  },
  {
   "cell_type": "markdown",
   "metadata": {},
   "source": [
    "Esta técnica se utiliza para mejorar el contraste y la calidad de la imagen al ajustar el histograma de cada pequeña región de la imagen en lugar de ecualizar el histograma global de toda la imagen\n",
    "\n",
    "\n",
    "\n",
    "La función principal del código es `ecualizacion_local_histograma`. Acepta dos argumentos: `imagen`, que es la imagen en escala de grises que se va a procesar, y `tamano_ventana `, que especifica el tamaño de la ventana utilizada para la ecualización local de histograma.\n",
    "La ecualización local de histograma implica dividir la imagen en pequeñas ventanas deslizantes y ecualizar el histograma de cada ventana por separado. Esto se hace para mantener el contraste en regiones locales de la imagen. El tamaño de la ventana determina cuántos píxeles cercanos se consideran al ecualizar el histograma. Cuanto más grande sea la ventana, más amplia será el área considerada."
   ]
  },
  {
   "cell_type": "code",
   "execution_count": null,
   "metadata": {},
   "outputs": [],
   "source": [
    "# Definición de la función para la ecualización local de histograma\n",
    "def ecualizacion_local_histograma(imagen, tamano_ventana):\n",
    "    alto, ancho = imagen.shape\n",
    "    mitad_ventana = tamano_ventana // 2\n",
    "\n",
    "    # Agregar bordes a la imagen para manejar los píxeles cerca de los bordes\n",
    "    imagen_con_bordes = cv2.copyMakeBorder(\n",
    "        imagen,\n",
    "        mitad_ventana,\n",
    "        mitad_ventana,\n",
    "        mitad_ventana,\n",
    "        mitad_ventana,\n",
    "        cv2.BORDER_REPLICATE,\n",
    "    )\n",
    "\n",
    "    # Matriz vacía para almacenar los resultados\n",
    "    imagen_resultado = np.empty(imagen.shape)\n",
    "\n",
    "    # Recorremos la imagen original\n",
    "    for i in range(mitad_ventana, alto + mitad_ventana):\n",
    "        for j in range(mitad_ventana, ancho + mitad_ventana):\n",
    "            # Definimos una ventana deslizante en la imagen con el tamaño especificado\n",
    "            ventana = imagen_con_bordes[\n",
    "                i - mitad_ventana : i + mitad_ventana + 1,\n",
    "                j - mitad_ventana : j + mitad_ventana + 1,\n",
    "            ]\n",
    "\n",
    "            # Aplicamos la ecualización del histograma a la ventana\n",
    "            ventana_equ = cv2.equalizeHist(ventana)\n",
    "\n",
    "            # Almacenamos el valor ecualizado en la posición correspondiente de la imagen de resultado\n",
    "            imagen_resultado[i - mitad_ventana, j - mitad_ventana] = ventana_equ[\n",
    "                mitad_ventana, mitad_ventana\n",
    "            ]\n",
    "\n",
    "    print(imagen_resultado)\n",
    "\n",
    "    return imagen_resultado\n"
   ]
  },
  {
   "cell_type": "markdown",
   "metadata": {},
   "source": [
    "El código comienza calculando las dimensiones de la imagen de entrada, es decir, su altura y ancho. Luego, calcula la mitad del tamaño de la ventana (`mitad_ventana`) dividiendo `tamano_ventana` por 2.\n",
    "\n",
    "Para garantizar que el proceso de ecualización funcione correctamente en los bordes de la imagen, se crea una imagen con bordes adicionales utilizando la función `cv2.copyMakeBorder`. Esta imagen extendida incluye duplicados de los píxeles cerca de los bordes de la imagen original. Los bordes replicados ayudan a garantizar que se pueda aplicar la ecualización en todas las regiones de la imagen sin problemas.\n",
    "\n",
    "A continuación, se crea una matriz vacía llamada `imagen_resultado` que tendrá el mismo tamaño que la imagen de entrada. Esta matriz se utilizará para almacenar la imagen resultante después de aplicar la ecualización local de histograma.\n",
    "\n",
    "El código entra en dos bucles `for` anidados que recorren cada píxel de la imagen original, comenzando desde la posición `mitad_ventana` para evitar procesar los bordes. En cada iteración de estos bucles, se define una ventana deslizante de tamaño `tamano_ventana` centrada en el píxel actual.\n",
    "\n",
    "Dentro del bucle, se aplica la ecualización del histograma a la ventana utilizando `cv2.equalizeHist`. Esto ajusta el histograma de la ventana de manera que los valores de píxeles se distribuyan más uniformemente, mejorando así el contraste local.\n",
    "\n",
    "Una vez que se ecualiza la ventana, el valor resultante se almacena en la posición correspondiente de `imagen_resultado`, que es una región de la imagen final después de la ecualización local.\n",
    "\n",
    "Después de que se procesan todos los píxeles en la imagen original, la función devuelve `imagen_resultado`, que contiene la imagen con la ecualización local de histograma aplicada."
   ]
  },
  {
   "cell_type": "markdown",
   "metadata": {},
   "source": [
    "# Lectura de la imagen y pasaje a escala de grises"
   ]
  },
  {
   "cell_type": "code",
   "execution_count": null,
   "metadata": {},
   "outputs": [],
   "source": [
    "# Ruta de la imagen de entrada\n",
    "ruta_imagen = \"imagen.tif\"\n",
    "\n",
    "# Lectura de la imagen en escala de grises\n",
    "imagen_original = cv2.imread(ruta_imagen, cv2.IMREAD_GRAYSCALE)\n",
    "imagen_original.shape"
   ]
  },
  {
   "cell_type": "markdown",
   "metadata": {},
   "source": [
    "Se carga una imagen en escala de grises desde un archivo llamado \"imagen.tif\" utilizando `cv2.imread`"
   ]
  },
  {
   "cell_type": "code",
   "execution_count": null,
   "metadata": {},
   "outputs": [],
   "source": [
    "\n",
    "# Aplicamos la ecualización local de histograma a tres tamaños de ventana diferentes\n",
    "img1 = ecualizacion_local_histograma(imagen_original, 3 * 3)\n",
    "\n",
    "img2 = ecualizacion_local_histograma(imagen_original, 11 * 3)\n",
    "\n",
    "img3 = ecualizacion_local_histograma(imagen_original, 33 * 3)"
   ]
  },
  {
   "cell_type": "markdown",
   "metadata": {},
   "source": [
    "Luego, llama a la función `ecualizacion_local_histograma` tres veces con diferentes tamaños de ventana (3x3, 9x3 y 33x3) para aplicar la ecualización local de histograma con diferentes niveles de detalle."
   ]
  },
  {
   "cell_type": "code",
   "execution_count": null,
   "metadata": {},
   "outputs": [],
   "source": [
    "# Configuración de subplots para mostrar las imágenes\n",
    "ax1 = plt.subplot(221)\n",
    "plt.title(\"Imagen Original\")\n",
    "plt.imshow(imagen_original, cmap=\"gray\")\n",
    "plt.subplot(222, sharex=ax1, sharey=ax1)\n",
    "plt.title(\"Ventana de 3x3\")\n",
    "plt.imshow(img1, cmap=\"gray\")\n",
    "plt.subplot(223, sharex=ax1, sharey=ax1)\n",
    "plt.title(\"Ventana de 9x3\")\n",
    "plt.imshow(img2, cmap=\"gray\")\n",
    "plt.subplot(224, sharex=ax1, sharey=ax1)\n",
    "plt.title(\"Ventana de 33x3\")\n",
    "plt.imshow(img3, cmap=\"gray\")\n",
    "\n",
    "# Mostrar el resultado\n",
    "plt.show()"
   ]
  },
  {
   "cell_type": "markdown",
   "metadata": {},
   "source": [
    "Finalmente, el código utiliza `matplotlib` para crear un conjunto de subtramas que muestran la imagen original y las imágenes resultantes de la ecualización local de histograma con diferentes tamaños de ventana. Estas imágenes se muestran en una ventana gráfica para que el usuario pueda comparar los efectos de la ecualización local en diferentes regiones de la imagen."
   ]
  }
 ],
 "metadata": {
  "language_info": {
   "name": "python"
  },
  "orig_nbformat": 4
 },
 "nbformat": 4,
 "nbformat_minor": 2
}
